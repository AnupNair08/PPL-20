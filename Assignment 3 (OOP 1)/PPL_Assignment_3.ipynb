{
 "cells": [
  {
   "cell_type": "markdown",
   "metadata": {
    "colab_type": "text",
    "id": "86Fzjw5iCRvm"
   },
   "source": [
    "# Python Program to demonstrate OOP concepts of Encapsulation and Abstraction"
   ]
  },
  {
   "cell_type": "markdown",
   "metadata": {},
   "source": [
    "## Animals"
   ]
  },
  {
   "cell_type": "code",
   "execution_count": 143,
   "metadata": {
    "colab": {},
    "colab_type": "code",
    "id": "0ggidrS27Zbi"
   },
   "outputs": [],
   "source": [
    "#Parent Class\n",
    "class Animal:\n",
    "  def __init__(self):\n",
    "    self._type = '' #Protected Member(Accessible to methods and derived classes)\n",
    "    self.__kingdom = 'Animalia' #Private Member(Accessible to methods only)\n",
    "  #Public Atrributes\n",
    "  name = ''\n",
    "  color = ''\n",
    "  sound = ''\n",
    "  #Method of the class which has access to private instance variable\n",
    "  def get_kingdom(self):\n",
    "    print('{}'.format(self.__kingdom))\n",
    "  \n",
    "  #Getter and setter functions to demonstrate abstraction   \n",
    "  def set_name(self,name):\n",
    "    self.name = name\n",
    "  def set_color(self,color):\n",
    "    self.color = color\n",
    "  def set_sound(self,sound):\n",
    "    self.sound = sound\n",
    "  def get_name(self):\n",
    "    print(\"Name is {}.\".format(self.name))\n",
    "  def get_color(self):\n",
    "    print(\"{} is {} in color.\".format(self.name,self.color))\n",
    "  def get_sound(self):\n",
    "    print(\"{} {}s\".format(self.name,self.sound))   "
   ]
  },
  {
   "cell_type": "code",
   "execution_count": 144,
   "metadata": {
    "colab": {},
    "colab_type": "code",
    "id": "L3iCNN1A-FVo"
   },
   "outputs": [],
   "source": [
    "#Child class 1\n",
    "class cat(Animal):\n",
    "  def set_type(self):\n",
    "    self._type = 'Cat' #Accessing a protected member via base class\n",
    "    \n",
    "  def get_type(self):\n",
    "    # print(self.__kingdom) #Accessing a private member results in an error\n",
    "    print('{} is a {}'.format(self.name,self._type))"
   ]
  },
  {
   "cell_type": "code",
   "execution_count": 145,
   "metadata": {
    "colab": {},
    "colab_type": "code",
    "id": "8NTmD5oyFT-3"
   },
   "outputs": [],
   "source": [
    "#Child class 2\n",
    "class dog(Animal):\n",
    "  def set_type(self):\n",
    "    self._type = 'Dog' #Accessing a protected member via base class\n",
    "\n",
    "  def get_type(self):\n",
    "    # print(self.__kingdom) #Accessing a private member results in an error\n",
    "    print('{} is a {}'.format(self.name,self._type))"
   ]
  },
  {
   "cell_type": "code",
   "execution_count": 146,
   "metadata": {
    "colab": {},
    "colab_type": "code",
    "id": "g90M5h8uFdpu"
   },
   "outputs": [],
   "source": [
    "#Child class 3\n",
    "class bat(Animal):\n",
    "  def set_type(self):\n",
    "    self._type = 'Bat' #Accessing a protected member via base class\n",
    "\n",
    "  def get_type(self):\n",
    "    # print(self.__kingdom) #Accessing a private member results in an error\n",
    "    print('{} is a {}'.format(self.name,self._type))"
   ]
  },
  {
   "cell_type": "code",
   "execution_count": 147,
   "metadata": {
    "colab": {},
    "colab_type": "code",
    "id": "_xumJas_GLbR"
   },
   "outputs": [],
   "source": [
    "#Child class 4\n",
    "class donkey(Animal):\n",
    "  def set_type(self):\n",
    "    self._type = 'Donkey' #Accessing a protected member via base class\n",
    "\n",
    "  def get_type(self):\n",
    "    # print(self.__kingdom) #Accessing a private member results in an error\n",
    "    print('{} is a {}'.format(self.name,self._type))"
   ]
  },
  {
   "cell_type": "code",
   "execution_count": 148,
   "metadata": {
    "colab": {},
    "colab_type": "code",
    "id": "4LnKZWEYIEMa"
   },
   "outputs": [],
   "source": [
    "#Child class 5\n",
    "class horse(Animal):\n",
    "  def set_type(self):\n",
    "    self._type = 'Horse' #Accessing a protected member via base class\n",
    "\n",
    "  def get_type(self):\n",
    "    # print(self.__kingdom) #Accessing a private member results in an error\n",
    "    print('{} is a {}'.format(self.name,self._type))"
   ]
  },
  {
   "cell_type": "code",
   "execution_count": 149,
   "metadata": {
    "colab": {},
    "colab_type": "code",
    "id": "4KLQAIU2IFAM"
   },
   "outputs": [],
   "source": [
    "#Child class 6\n",
    "class cow(Animal):\n",
    "  def set_type(self):\n",
    "    self._type = 'Cow' #Accessing a protected member via base class\n",
    "\n",
    "  def get_type(self):\n",
    "    # print(self.__kingdom) #Accessing a private member results in an error\n",
    "    print('{} is a {}'.format(self.name,self._type))"
   ]
  },
  {
   "cell_type": "code",
   "execution_count": 150,
   "metadata": {
    "colab": {},
    "colab_type": "code",
    "id": "e9403isGIFOX"
   },
   "outputs": [],
   "source": [
    "#Child class 7\n",
    "class eagle(Animal):\n",
    "  def set_type(self):\n",
    "    self._type = 'Eagle' #Accessing a protected member via base class\n",
    "\n",
    "  def get_type(self):\n",
    "    # print(self.__kingdom) #Accessing a private member results in an error\n",
    "    print('{} is a {}'.format(self.name,self._type))"
   ]
  },
  {
   "cell_type": "code",
   "execution_count": 151,
   "metadata": {
    "colab": {},
    "colab_type": "code",
    "id": "6E9Z_FI0IFb7"
   },
   "outputs": [],
   "source": [
    "#Child class 8\n",
    "class tiger(Animal):\n",
    "  def set_type(self):\n",
    "    self._type = 'Tiger' #Accessing a protected member via base class\n",
    "\n",
    "  def get_type(self):\n",
    "    # print(self.__kingdom) #Accessing a private member results in an error\n",
    "    print('{} is a {}'.format(self.name,self._type))"
   ]
  },
  {
   "cell_type": "code",
   "execution_count": 152,
   "metadata": {
    "colab": {},
    "colab_type": "code",
    "id": "SAD63_8uIFpl"
   },
   "outputs": [],
   "source": [
    "#Child class 9\n",
    "class lion(Animal):\n",
    "  def set_type(self):\n",
    "    self._type = 'Lion' #Accessing a protected member via base class\n",
    "\n",
    "  def get_type(self):\n",
    "    # print(self.__kingdom) #Accessing a private member results in an error\n",
    "    print('{} is a {}'.format(self.name,self._type))"
   ]
  },
  {
   "cell_type": "code",
   "execution_count": 153,
   "metadata": {
    "colab": {},
    "colab_type": "code",
    "id": "mbBSWwZdIF4S"
   },
   "outputs": [],
   "source": [
    "#Child class 10\n",
    "class cheetah(Animal):\n",
    "  def set_type(self):\n",
    "    self._type = 'Cheetah' #Accessing a protected member via base class\n",
    "\n",
    "  def get_type(self):\n",
    "    # print(self.__kingdom) #Accessing a private member results in an error\n",
    "    print('{} is a {}'.format(self.name,self._type))"
   ]
  },
  {
   "cell_type": "markdown",
   "metadata": {},
   "source": [
    "### Examples "
   ]
  },
  {
   "cell_type": "code",
   "execution_count": 155,
   "metadata": {},
   "outputs": [],
   "source": [
    "d = dog()"
   ]
  },
  {
   "cell_type": "code",
   "execution_count": 156,
   "metadata": {},
   "outputs": [
    {
     "name": "stdout",
     "output_type": "stream",
     "text": [
      "Butch is a Dog\n"
     ]
    }
   ],
   "source": [
    "#Getter and setter methods for abstraction\n",
    "d.set_name('Butch')\n",
    "d.set_type() #Acessing protected member of base class\n",
    "d.get_type() "
   ]
  },
  {
   "cell_type": "code",
   "execution_count": 157,
   "metadata": {},
   "outputs": [],
   "source": [
    "a = Animal()"
   ]
  },
  {
   "cell_type": "code",
   "execution_count": 160,
   "metadata": {},
   "outputs": [
    {
     "name": "stdout",
     "output_type": "stream",
     "text": [
      "Animalia\n"
     ]
    }
   ],
   "source": [
    "#Private member can be accessed by the methods in the class only\n",
    "a.get_kingdom()"
   ]
  },
  {
   "cell_type": "markdown",
   "metadata": {},
   "source": [
    "## Shapes "
   ]
  },
  {
   "cell_type": "code",
   "execution_count": 96,
   "metadata": {},
   "outputs": [],
   "source": [
    "#Base class\n",
    "import turtle\n",
    "class Shapes:\n",
    "    def __init__(self):\n",
    "        self._Type = '' #Protected member\n",
    "\n",
    "    def get_Type(self):\n",
    "        print(self._Type)"
   ]
  },
  {
   "cell_type": "code",
   "execution_count": 97,
   "metadata": {},
   "outputs": [],
   "source": [
    "#Triangle\n",
    "class triangle(Shapes):\n",
    "    def __init__(self):\n",
    "        self._side = 3\n",
    "        self._side_length = 30\n",
    "    #We can modify protected members via base class    \n",
    "    def set_type(self):\n",
    "        self._Type = 'Polygon with 3 sides'\n",
    "    #Only member functions can have access to private members    \n",
    "    def get_side(self):\n",
    "        print(self._side)\n",
    "    def draw(self):\n",
    "        t = turtle\n",
    "        for i in range(3):\n",
    "            t.forward(self._side_length)\n",
    "            t.left(120)\n",
    "        t.done()\n",
    "        try:\n",
    "            t.exitonclick()\n",
    "        except:\n",
    "            pass"
   ]
  },
  {
   "cell_type": "code",
   "execution_count": 98,
   "metadata": {},
   "outputs": [],
   "source": [
    "#Equilateral traingle inherited from triangle\n",
    "class equilateral(triangle):\n",
    "    #We can modify protected members via base class    \n",
    "    def set_type(self):\n",
    "        self._Type = 'Polygon with 3 sides and all three are equal'\n",
    "    #Only member functions can have access to private members    \n",
    "    def get_side(self):\n",
    "        print(self._side)\n",
    "    def draw(self):\n",
    "        t = turtle\n",
    "        for i in range(3):\n",
    "            t.forward(self._side_length)\n",
    "            t.left(120)\n",
    "        t.done()\n",
    "        try:\n",
    "            t.exitonclick()\n",
    "        except:\n",
    "            pass"
   ]
  },
  {
   "cell_type": "code",
   "execution_count": 99,
   "metadata": {},
   "outputs": [],
   "source": [
    "#Rectangle\n",
    "class rectangle(Shapes):\n",
    "    def __init__(self):\n",
    "        self.__side = 4\n",
    "        self.__a = 40\n",
    "        self.__b = 50\n",
    "    #We can modify protected members via base class    \n",
    "    def set_type(self,typ):\n",
    "        self._Type = 'Polygon with 2 equal and 2 unequal sides'\n",
    "    #Only member functions can have access to private members    \n",
    "    def get_side(self):\n",
    "        print(self.__side)\n",
    "    def draw(self):\n",
    "        t = turtle\n",
    "        t.forward(self.__a)\n",
    "        t.left(90)\n",
    "        t.forward(self.__b)\n",
    "        t.left(90)\n",
    "        t.forward(self.__a)\n",
    "        t.left(90)\n",
    "        t.forward(self.__b)\n",
    "        t.left(90)\n",
    "        t.done()\n",
    "        try:\n",
    "            t.exitonclick()\n",
    "        except:\n",
    "            pass"
   ]
  },
  {
   "cell_type": "code",
   "execution_count": 100,
   "metadata": {},
   "outputs": [],
   "source": [
    "#Square inherited from rectangle\n",
    "class square(rectangle):\n",
    "    def __init__(self):\n",
    "        self.sides = 4\n",
    "        self.a = 50\n",
    "    #We can modify protected members via base class    \n",
    "    def set_type(self):\n",
    "        self._Type = 'Polygon with 4 sides all of which are equal'\n",
    "    \n",
    "    def get_side(self):\n",
    "    #The getter function will throw an error if this is executed as the private member of base class is being accessed\n",
    "    #print(self.__side)\n",
    "        print(self.sides)\n",
    "    def draw(self):\n",
    "        t = turtle\n",
    "        for i in range(4):\n",
    "            t.forward(self.a)\n",
    "            t.left(90)\n",
    "        t.done()\n",
    "        try:\n",
    "            t.exitonclick()\n",
    "        except:\n",
    "            pass"
   ]
  },
  {
   "cell_type": "code",
   "execution_count": 101,
   "metadata": {},
   "outputs": [],
   "source": [
    "#Rhombus inherited from square\n",
    "class rhombus(square):\n",
    "    def set_type(self):\n",
    "        self._Type = 'Polygon with 4 sides all of which are equal but angles are not 90'\n",
    "    \n",
    "    #The base class has a public member in sides so we can access it in the base class and outside\n",
    "    def get_side(self):\n",
    "        print(self.sides)\n",
    "    def draw(self):\n",
    "        t = turtle\n",
    "        t.forward(self.a * 2)\n",
    "        t.left(60)\n",
    "        t.forward(self.a * 2)\n",
    "        t.left(120)\n",
    "        t.forward(self.a * 2)\n",
    "        t.left(60)\n",
    "        t.forward(self.a * 2)\n",
    "        t.done()\n",
    "        try:\n",
    "            t.exitonclick()\n",
    "        except:\n",
    "            pass"
   ]
  },
  {
   "cell_type": "code",
   "execution_count": 102,
   "metadata": {},
   "outputs": [],
   "source": [
    "#Circle\n",
    "class circle(Shapes):\n",
    "    def __init__(self):\n",
    "        self.f = 0\n",
    "        self.__r = 0\n",
    "        self.__eqn = 'x^2 + y^2 = r^2'\n",
    "    def set_type(self):\n",
    "        self._Type = 'Conic'\n",
    "    #Setter function for accessing private member\n",
    "    def set_radius(self,r):\n",
    "        self.__r = r\n",
    "        self.f = self.__r\n",
    "    def get_area(self):\n",
    "        print(3.14 * (self.__r)**2)\n",
    "    def draw(self):\n",
    "        t = turtle\n",
    "        t.circle(self.f)\n",
    "        t.done()\n",
    "        try:\n",
    "            t.exitonclick()\n",
    "        except:\n",
    "            pass"
   ]
  },
  {
   "cell_type": "code",
   "execution_count": 103,
   "metadata": {},
   "outputs": [],
   "source": [
    "#Ellipse\n",
    "class ellipse(Shapes):\n",
    "    def __init__(self):\n",
    "        self.__a = 0\n",
    "        self.__b = 0\n",
    "        self.__eqn = 'x^2/a^2 + y^2/b^2 = 1'\n",
    "    def set_type(self):\n",
    "        self._Type = 'Conic with a major and minor axis'\n",
    "    #Setter function for accessing private member\n",
    "    def set_params(self,a,b):\n",
    "        self.__a = a\n",
    "        self.__b = b\n",
    "    def get_area(self):\n",
    "        print(3.14 * self.__a * self__b)\n",
    "    def draw(self):\n",
    "        t = turtle\n",
    "        t.right(45)\n",
    "        for i in range(2):\n",
    "            t.circle(self.__a,90)\n",
    "            t.circle(self.__b,90)\n",
    "        t.done()\n",
    "        try:\n",
    "            t.exitonclick()\n",
    "        except:\n",
    "            pass"
   ]
  },
  {
   "cell_type": "code",
   "execution_count": 104,
   "metadata": {},
   "outputs": [],
   "source": [
    "class flower(Shapes):\n",
    "    def drawflower(self):\n",
    "        t = turtle\n",
    "        for i in range(8):\n",
    "            t.circle(60)\n",
    "            t.left(45)\n",
    "        t.done()\n",
    "        try:\n",
    "            t.exitonclick()\n",
    "        except:\n",
    "            pass"
   ]
  },
  {
   "cell_type": "markdown",
   "metadata": {},
   "source": [
    "### Examples "
   ]
  },
  {
   "cell_type": "code",
   "execution_count": 105,
   "metadata": {},
   "outputs": [],
   "source": [
    "e = equilateral()"
   ]
  },
  {
   "cell_type": "code",
   "execution_count": 106,
   "metadata": {},
   "outputs": [
    {
     "name": "stdout",
     "output_type": "stream",
     "text": [
      "3\n"
     ]
    }
   ],
   "source": [
    "#Accessing protected member of base class\n",
    "e.get_side()"
   ]
  },
  {
   "cell_type": "code",
   "execution_count": 107,
   "metadata": {},
   "outputs": [
    {
     "name": "stdout",
     "output_type": "stream",
     "text": [
      "Polygon with 3 sides and all three are equal\n"
     ]
    }
   ],
   "source": [
    "#Getter and setter methods provide abstraction\n",
    "e.set_type()\n",
    "e.get_Type()"
   ]
  },
  {
   "cell_type": "code",
   "execution_count": 108,
   "metadata": {},
   "outputs": [],
   "source": [
    "s = square()"
   ]
  },
  {
   "cell_type": "code",
   "execution_count": 109,
   "metadata": {},
   "outputs": [
    {
     "data": {
      "text/plain": [
       "4"
      ]
     },
     "execution_count": 109,
     "metadata": {},
     "output_type": "execute_result"
    }
   ],
   "source": [
    "#s.side   => Gives error as private member of base class is being accessed\n",
    "s.sides"
   ]
  },
  {
   "cell_type": "code",
   "execution_count": 111,
   "metadata": {},
   "outputs": [],
   "source": [
    "c = circle()"
   ]
  },
  {
   "cell_type": "code",
   "execution_count": 112,
   "metadata": {},
   "outputs": [
    {
     "name": "stdout",
     "output_type": "stream",
     "text": [
      "153.86\n"
     ]
    }
   ],
   "source": [
    "#Setter and Getter methods to access the private member of class circle\n",
    "c.set_radius(7)\n",
    "c.get_area()"
   ]
  },
  {
   "cell_type": "code",
   "execution_count": 113,
   "metadata": {},
   "outputs": [],
   "source": [
    "#Drawing the shapes using turtle\n",
    "t = ellipse()\n",
    "t.set_params(100,40)"
   ]
  },
  {
   "cell_type": "code",
   "execution_count": 114,
   "metadata": {},
   "outputs": [],
   "source": [
    "t.draw()"
   ]
  },
  {
   "cell_type": "code",
   "execution_count": 115,
   "metadata": {},
   "outputs": [],
   "source": [
    "f = flower()"
   ]
  },
  {
   "cell_type": "code",
   "execution_count": 116,
   "metadata": {},
   "outputs": [],
   "source": [
    "f.drawflower()"
   ]
  }
 ],
 "metadata": {
  "colab": {
   "collapsed_sections": [],
   "name": "PPL Assignment 3.ipynb",
   "provenance": []
  },
  "kernelspec": {
   "display_name": "Python 3",
   "language": "python",
   "name": "python3"
  },
  "language_info": {
   "codemirror_mode": {
    "name": "ipython",
    "version": 3
   },
   "file_extension": ".py",
   "mimetype": "text/x-python",
   "name": "python",
   "nbconvert_exporter": "python",
   "pygments_lexer": "ipython3",
   "version": "3.7.6"
  }
 },
 "nbformat": 4,
 "nbformat_minor": 1
}
