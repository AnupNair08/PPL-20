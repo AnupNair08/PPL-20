{
 "cells": [
  {
   "cell_type": "markdown",
   "metadata": {},
   "source": [
    "# Virtual Functions : \n",
    "Member functions of the base class that are overridden by the derived class are called as virtual functions. It is an example of Run-Time polymorphism or late-binding.\n",
    "Eg: For an Animal class if we define a virtual function speak, we can make derived classes that change or override the speak method according to a particular animal.\n",
    "Eg: Cat meows and Dog barks.\n",
    "Here the method is called according to the derived class at runtime and this is an example of a virtual function."
   ]
  },
  {
   "cell_type": "code",
   "execution_count": 23,
   "metadata": {},
   "outputs": [],
   "source": [
    "#Base class\n",
    "import abc\n",
    "class Animal(metaclass=abc.ABCMeta):\n",
    "    def __init__(self):\n",
    "        self.kingdom = 'Animalia'\n",
    "    def speak(self):\n",
    "        print('Animals can speak')\n",
    "    @abc.abstractmethod\n",
    "    def abstract(self):\n",
    "        pass"
   ]
  },
  {
   "cell_type": "code",
   "execution_count": 24,
   "metadata": {},
   "outputs": [],
   "source": [
    "#Derived Classes\n",
    "class Dog(Animal):\n",
    "    def speak(self):\n",
    "        print(\"Bhau\")\n",
    "    def abstract(self):\n",
    "        print('Pure Virtual Function implemented in Dog')\n",
    "class Cat(Animal):\n",
    "    def speak(self):\n",
    "        print(\"Meow\")\n",
    "    def abstract(self):\n",
    "        print('Pure Virtual Function implemented in Dog')"
   ]
  },
  {
   "cell_type": "code",
   "execution_count": 26,
   "metadata": {},
   "outputs": [],
   "source": [
    "d = Dog()\n"
   ]
  },
  {
   "cell_type": "code",
   "execution_count": 27,
   "metadata": {},
   "outputs": [
    {
     "data": {
      "text/plain": [
       "'Animalia'"
      ]
     },
     "execution_count": 27,
     "metadata": {},
     "output_type": "execute_result"
    }
   ],
   "source": [
    "d.kingdom"
   ]
  },
  {
   "cell_type": "code",
   "execution_count": 28,
   "metadata": {},
   "outputs": [
    {
     "name": "stdout",
     "output_type": "stream",
     "text": [
      "Bhau\n"
     ]
    }
   ],
   "source": [
    "d.speak()"
   ]
  },
  {
   "cell_type": "code",
   "execution_count": 29,
   "metadata": {},
   "outputs": [
    {
     "name": "stdout",
     "output_type": "stream",
     "text": [
      "Pure Virtual Function implemented in Cat\n"
     ]
    }
   ],
   "source": [
    "d.abstract()"
   ]
  },
  {
   "cell_type": "code",
   "execution_count": null,
   "metadata": {},
   "outputs": [],
   "source": []
  }
 ],
 "metadata": {
  "kernelspec": {
   "display_name": "Python 3",
   "language": "python",
   "name": "python3"
  },
  "language_info": {
   "codemirror_mode": {
    "name": "ipython",
    "version": 3
   },
   "file_extension": ".py",
   "mimetype": "text/x-python",
   "name": "python",
   "nbconvert_exporter": "python",
   "pygments_lexer": "ipython3",
   "version": "3.7.6"
  }
 },
 "nbformat": 4,
 "nbformat_minor": 4
}
