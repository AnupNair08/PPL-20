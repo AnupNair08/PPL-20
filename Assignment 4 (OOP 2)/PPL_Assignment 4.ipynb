{
 "cells": [
  {
   "cell_type": "markdown",
   "metadata": {},
   "source": [
    "# Base and Derived Classes\n",
    "A class is called as a base class when it is inherited by other classes whereas a derived class is a class that inherits from a base class.\n",
    "Eg: There can be multiple animals. Here Animal is the base class and all the other class of various animals are derived class as they inherit all the common properties of the animal class with their individual properties/\n",
    "Similarly there can be multiple shapes and here Shape is the base class and the other shapes such as rectangle, square are the derived class and they retain the common properties of the shape class along with their individual properties."
   ]
  },
  {
   "cell_type": "markdown",
   "metadata": {},
   "source": [
    "# Inheritance\n",
    "It is the property by which the derived classes get the same properties as the base class. Inheritance accounts for reusability of code as all the public/portected methods(except constructors and destructors) and attributes can be accessed or are passed down to the derived class. It forms a heirarchy of classes.\n",
    "\n",
    "Types of inheritance : \n",
    "                 1. Single : One base and one derived class\n",
    "                 2. Multiple : More than one base class and one derived class\n",
    "                 3. Multilevel : One base class has one derived class which in turn is a base class of another derived class\n",
    "                 4. Hybrid : Combination of all the above types"
   ]
  },
  {
   "cell_type": "markdown",
   "metadata": {},
   "source": [
    "# Virtual Functions : \n",
    "Member functions of the base class that are overridden by the derived class are called as virtual functions. It is an example of Run-Time polymorphism or late-binding.\n",
    "Eg: For an Animal class if we define a virtual function speak, we can make derived classes that change or override the speak method according to a particular animal.\n",
    "Eg: Cat meows and Dog barks.\n",
    "Here the method is called according to the derived class at runtime and this is an example of a virtual function."
   ]
  },
  {
   "cell_type": "markdown",
   "metadata": {},
   "source": [
    "# Pure Virtual Functions and abstract classes :\n",
    "When a method in a base class is declared but does not contain any implementation then it is called as an abstract method or a pure virtual function. Here the abstract method is abstract and has been only declared in the base class but there is no implementation of the method. The base class thus becomes an abstract class.\n",
    "\n"
   ]
  },
  {
   "cell_type": "markdown",
   "metadata": {},
   "source": [
    "# Polymorphism\n",
    "Polymorphism means to exist in multiple forms. It means having functions with the same name that perform different opertions according to their signature. There are two types of polymorphism in language like C++ => Compile time and Run time. Python supports only runtime polymorphism.\n",
    "\n",
    "Polymorphism may exist for operators as well as functions."
   ]
  },
  {
   "cell_type": "markdown",
   "metadata": {},
   "source": [
    "# Modularity\n",
    "The ability to import codes from various modules resulting in ability to form structured and modularised code is called as modularity"
   ]
  },
  {
   "cell_type": "markdown",
   "metadata": {},
   "source": [
    "# Animals"
   ]
  },
  {
   "cell_type": "code",
   "execution_count": 60,
   "metadata": {},
   "outputs": [],
   "source": [
    "#Base class\n",
    "class Animal():\n",
    "    def __init__(self):\n",
    "        self.kingdom = 'Animalia'\n",
    "    \n",
    "    #Virtual method\n",
    "    def speak(self):\n",
    "        print('Animals can speak')\n",
    "    def a_type(self):\n",
    "        print('Animals can be wild or domestic')\n",
    "    \n",
    "    #Abstract method or pure virtual function\n",
    "    def set_name(self,name):\n",
    "        pass\n",
    "    def get_shelter(self):\n",
    "        pass"
   ]
  },
  {
   "cell_type": "code",
   "execution_count": 61,
   "metadata": {},
   "outputs": [],
   "source": [
    "#Classes deriving from Animal\n",
    "class terrestrial(Animal):\n",
    "    t = 'land'\n",
    "    def territory(self):\n",
    "        print('These animals live on the land and can be found in caves, forests and streets')\n",
    "    def get_territory(self):\n",
    "        pass\n",
    "    \n",
    "class aquatic(Animal):\n",
    "    t = 'water'\n",
    "    def territory(self):\n",
    "        print('These animals live in water and can be lakes, oceans and seas')\n",
    "    def get_territory(self):\n",
    "        pass\n",
    "    \n",
    "class aerial(Animal):\n",
    "    t = 'air'\n",
    "    def territory(self):\n",
    "        print('These animals can fly and are found in the skies')\n",
    "    def get_territory(self):\n",
    "        pass"
   ]
  },
  {
   "cell_type": "code",
   "execution_count": 62,
   "metadata": {},
   "outputs": [],
   "source": [
    "class Mammals(Animal):\n",
    "    def __init__(self):\n",
    "        self.Type = 'Mammal'\n",
    "    def feature(self):\n",
    "        print('Vertebrate animals belonging to the class Mammalia')\n",
    "\n",
    "class Birds(Animal):\n",
    "    def __init__(self):\n",
    "        self.Type = 'Birds'\n",
    "    def feature(self):\n",
    "        print('Flying creatures with wide exoskeleton and feathers')\n",
    "        \n",
    "class Reptile(Animal):\n",
    "    def __init__(self):\n",
    "        self.Type = 'Reptile'\n",
    "    def feature(self):\n",
    "        print('Cold blooded crawling animals')\n",
    "    \n",
    "class Fish(Animal):\n",
    "    def __init__(self):\n",
    "        self.Type = 'Fish'\n",
    "    def feature(self):\n",
    "        print('Aquatic animals living in oceans')\n",
    "    "
   ]
  },
  {
   "cell_type": "code",
   "execution_count": 63,
   "metadata": {},
   "outputs": [],
   "source": [
    "#Derived Classes\n",
    "class Dog(Mammals,terrestrial):\n",
    "    name = ''\n",
    "    shelter = 'Streets / Home'\n",
    "    def speak(self):\n",
    "        print(\"Bark\")\n",
    "    def set_name(self,name):\n",
    "        self.name = name\n",
    "    def get_shelter(self):\n",
    "        print(self.shelter)\n",
    "    def get_territory(self):\n",
    "        print(self.t)\n",
    "\n",
    "class Cat(Mammals,terrestrial):\n",
    "    name = ''\n",
    "    shelter = 'Streets / Homes'\n",
    "    def speak(self):\n",
    "        print(\"Meow\")\n",
    "    def set_name(self,name):\n",
    "        self.name = name\n",
    "    def a_type(self):\n",
    "        print('{} is a cat and {} is domestic'.format(self.name,self.name))\n",
    "    def get_shelter(self):\n",
    "        print(self.shelter)\n",
    "    def get_territory(self):\n",
    "        print(self.t)"
   ]
  },
  {
   "cell_type": "code",
   "execution_count": 64,
   "metadata": {},
   "outputs": [],
   "source": [
    "class Bat(Mammals,Birds,aerial):\n",
    "    name = ''\n",
    "    shelter = 'Trees / Forests'\n",
    "    def speak(self):\n",
    "        print('Kreek')\n",
    "    def set_name(self,name):\n",
    "        self.name = name\n",
    "    def a_type(self):\n",
    "        print('Bat is a wild mammal and a bird')\n",
    "    def get_shelter(self):\n",
    "        print(self.shelter)\n",
    "    def get_territory(self):\n",
    "        print(self.t)\n",
    "\n",
    "class Lizard(Reptile,terrestrial):\n",
    "    name = ''\n",
    "    shelter = 'All corners of the house'\n",
    "    def speak(self):\n",
    "        print('sound')\n",
    "    def set_name(self,name):\n",
    "        self.name = name\n",
    "    def a_type(self):\n",
    "        print('Lizard is a domestic(?) reptile')\n",
    "    def get_shelter(self):\n",
    "        print(self.shelter)\n",
    "    def get_territory(self):\n",
    "        print(self.t)\n",
    "        \n",
    "class whale(Reptile,aquatic):\n",
    "    name = ''\n",
    "    shelter = 'Ocean depths'\n",
    "    def speak(self):\n",
    "        print('sound')\n",
    "    def set_name(self,name):\n",
    "        self.name = name\n",
    "    def a_type(self):\n",
    "        print('Whale is a wild animal')\n",
    "    def get_shelter(self):\n",
    "        print(self.shelter)\n",
    "    def get_territory(self):\n",
    "        print(self.t)\n",
    "        \n",
    "\n",
    "class snake(Reptile,terrestrial,aquatic):\n",
    "    name = ''\n",
    "    shelter = 'Ocean depths , trees , caves'\n",
    "    def speak(self):\n",
    "        print('hiss')\n",
    "    def set_name(self,name):\n",
    "        self.name = name\n",
    "    def a_type(self):\n",
    "        print('Snake is a wild animal and an exotic pet!')\n",
    "    def get_shelter(self):\n",
    "        print(self.shelter)\n",
    "    def get_territory(self):\n",
    "        print('Aquatic , Terrestrial')\n"
   ]
  },
  {
   "cell_type": "markdown",
   "metadata": {},
   "source": [
    "Inheritance"
   ]
  },
  {
   "cell_type": "code",
   "execution_count": 65,
   "metadata": {},
   "outputs": [],
   "source": [
    "#Animal => Terrestrial, Aquatic , Aerial , Mammals, Reptiles, Birds, Fishes => Individual animals"
   ]
  },
  {
   "cell_type": "markdown",
   "metadata": {},
   "source": [
    "Example of virtual function"
   ]
  },
  {
   "cell_type": "code",
   "execution_count": 66,
   "metadata": {},
   "outputs": [
    {
     "name": "stdout",
     "output_type": "stream",
     "text": [
      "Animals can speak\n"
     ]
    }
   ],
   "source": [
    "Animal.speak('hello')"
   ]
  },
  {
   "cell_type": "code",
   "execution_count": 67,
   "metadata": {},
   "outputs": [
    {
     "name": "stdout",
     "output_type": "stream",
     "text": [
      "Bark\n"
     ]
    }
   ],
   "source": [
    "d = Dog()\n",
    "d.speak()"
   ]
  },
  {
   "cell_type": "markdown",
   "metadata": {},
   "source": [
    "Example of abstract method"
   ]
  },
  {
   "cell_type": "code",
   "execution_count": 68,
   "metadata": {},
   "outputs": [],
   "source": [
    "d.set_name('Butch')"
   ]
  },
  {
   "cell_type": "code",
   "execution_count": 69,
   "metadata": {},
   "outputs": [
    {
     "data": {
      "text/plain": [
       "'Butch'"
      ]
     },
     "execution_count": 69,
     "metadata": {},
     "output_type": "execute_result"
    }
   ],
   "source": [
    "d.name"
   ]
  },
  {
   "cell_type": "markdown",
   "metadata": {},
   "source": [
    "# Shapes "
   ]
  },
  {
   "cell_type": "code",
   "execution_count": 9,
   "metadata": {},
   "outputs": [],
   "source": [
    "import turtle"
   ]
  },
  {
   "cell_type": "code",
   "execution_count": 2,
   "metadata": {},
   "outputs": [],
   "source": [
    "class shape:\n",
    "    def __init__(self):\n",
    "        self.name = 'shape'\n",
    "    \n",
    "    def get_name(self):\n",
    "        pass\n",
    "\n",
    "    def get_area(self):\n",
    "        pass\n",
    "    \n",
    "    def get_perimeter(self):\n",
    "        pass\n",
    "\n",
    "    def draw(self):\n",
    "        pass\n",
    "        \n",
    "    "
   ]
  },
  {
   "cell_type": "code",
   "execution_count": 3,
   "metadata": {},
   "outputs": [],
   "source": [
    "class polygon(shape):\n",
    "    side = 0\n",
    "    def __int__(self):\n",
    "        self._name = 'polygon'\n",
    "\n",
    "class conics(shape):\n",
    "    equation = ''\n",
    "    def __init__(self):\n",
    "        self._name = 'conic'\n",
    "        \n",
    "class three_d(shape):\n",
    "    def __init__(self):\n",
    "        self.name = '3D shapes'"
   ]
  },
  {
   "cell_type": "code",
   "execution_count": 21,
   "metadata": {},
   "outputs": [],
   "source": [
    "class triangle(polygon):\n",
    "    name = 'triangle'\n",
    "    side = 3\n",
    "    s1 = 0\n",
    "    s2 = 0\n",
    "    s3 = 0\n",
    "    def __init__(self,s1,s2,s3):\n",
    "        self.s1 = s1\n",
    "        self.s2 = s2\n",
    "        self.s3 = s3\n",
    "    def set_sides(self,s1,s2):\n",
    "        self.s1 = s1\n",
    "        self.s2 = s2\n",
    "        self.s3 = s3\n",
    "#     def get_area(self):\n",
    "#         print(self.l * self.b)\n",
    "    def get_side(self):\n",
    "        print(self.s1)\n",
    "        print(self.s2)\n",
    "        print(self.s3)\n",
    "    def draw(self):\n",
    "        t = turtle\n",
    "        for i in range(3):\n",
    "            t.forward(self.s1)\n",
    "            t.left(120)\n",
    "        t.done()\n",
    "        try:\n",
    "            t.exitonclick()\n",
    "        except:\n",
    "            pass\n",
    "\n",
    "\n",
    "class rectangle(polygon):\n",
    "    name = 'rectangle'\n",
    "    side = 4\n",
    "    l = 0\n",
    "    b = 0\n",
    "    def __init__(self,l,b):\n",
    "        self.l = l\n",
    "        self.b = b\n",
    "    def set_sides(self,l,b):\n",
    "        self.l = l\n",
    "        self.b = b\n",
    "    def get_area(self):\n",
    "        print(self.l * self.b)\n",
    "    def get_side(self):\n",
    "        print(self.l)\n",
    "        print(self.b)\n",
    "    def draw(self):\n",
    "        t = turtle\n",
    "        t.forward(self.l)\n",
    "        t.left(90)\n",
    "        t.forward(self.b)\n",
    "        t.left(90)\n",
    "        t.forward(self.l)\n",
    "        t.left(90)\n",
    "        t.forward(self.b)\n",
    "        t.left(90)\n",
    "        t.done()\n",
    "        try:\n",
    "            t.exitonclick()\n",
    "        except:\n",
    "            pass\n",
    "#Square is a rectangle with length equal to breadth   \n",
    "class square(rectangle):\n",
    "    name = 'square'\n",
    "    l = 0\n",
    "    def __init__(self,l):\n",
    "        self.l = l\n",
    "    def set_sides(self,l):\n",
    "        self.l = l\n",
    "    def get_area(self):\n",
    "        print(self.l * self.l)\n",
    "    def get_side(self):\n",
    "        print(self.l)\n",
    "    def draw(self):\n",
    "        t = turtle\n",
    "        for i in range(4):\n",
    "            t.forward(self.l)\n",
    "            t.left(90)\n",
    "        t.done()\n",
    "        try:\n",
    "            t.exitonclick()\n",
    "        except:\n",
    "            pass"
   ]
  },
  {
   "cell_type": "code",
   "execution_count": 22,
   "metadata": {},
   "outputs": [],
   "source": [
    "class ellipse(conics):\n",
    "    def __init__(self):\n",
    "        self.a = 0\n",
    "        self.b = 0\n",
    "        self.equation  = ('x^2/{} + y^2/{} = 1'.format(self.a**2,self.b**2))\n",
    "    def set_params(self,a,b):\n",
    "        self.a = a\n",
    "        self.b = b\n",
    "    def get_equation(self):\n",
    "        ('x^2/{} + y^2/{} = 1'.format(self.a**2,self.b**2))\n",
    "    def get_params(self):\n",
    "        print(self.a,self.b)\n",
    "    def get_area(self):\n",
    "        print(3.14 * self.a * self.b)\n",
    "    def draw(self):\n",
    "        t = turtle\n",
    "        t.right(45)\n",
    "        for i in range(2):\n",
    "            t.circle(self.a,90)\n",
    "            t.circle(self.b,90)\n",
    "        t.done()\n",
    "        try:\n",
    "            t.exitonclick()\n",
    "        except:\n",
    "            pass\n",
    "\n",
    "#Circle is an ellipse with major and minor axis equal\n",
    "class circle(ellipse):\n",
    "    def __init__(self):\n",
    "        self.a = 0\n",
    "        self.b = 0\n",
    "        self.equation  = ('x^2 + y^2 = {}'.format(self.a**2))\n",
    "    #Polymorphism based on number of arguments passed\n",
    "    def set_params(self,r):\n",
    "        self.a = r\n",
    "        self.b = r\n",
    "    def get_equation(self):\n",
    "        print('x^2 + y^2 = {}'.format(self.a**2))\n",
    "    def get_params(self):\n",
    "        print(self.a)\n",
    "    def draw(self):\n",
    "        t = turtle\n",
    "        t.circle(self.a)\n",
    "        t.done()\n",
    "        try:\n",
    "            t.exitonclick()\n",
    "        except:\n",
    "            pass"
   ]
  },
  {
   "cell_type": "code",
   "execution_count": 125,
   "metadata": {},
   "outputs": [],
   "source": [
    "class cuboid(three_d):\n",
    "    def __init__(self,l,b,h):\n",
    "        self.l = l\n",
    "        self.b = b\n",
    "        self.h = h\n",
    "    def set_params(self,l,b,h):\n",
    "        self.l = l\n",
    "        self.b = b\n",
    "        self.h = h\n",
    "    def get_volume(self):\n",
    "        print(self.l * self.b * self.h)\n",
    "    def get_2d_proj(self):\n",
    "        print('Cuboid is a 3D extension of rectangle')\n",
    "    def draw(self):\n",
    "        t = turtle\n",
    "        for i in range(2):\n",
    "            t.forward(self.l)\n",
    "            t.left(90)\n",
    "            t.forward(self.b)\n",
    "            t.left(90)\n",
    "        t.left(30)\n",
    "        t.forward(self.h)\n",
    "        t.right(30)\n",
    "        for i in range(2):\n",
    "            t.forward(self.l)\n",
    "            t.left(90)\n",
    "            t.forward(self.b)\n",
    "            t.left(90)\n",
    "        \n",
    "        t.forward(self.l)\n",
    "        t.right(150)\n",
    "        t.forward(self.h)\n",
    "        t.left(240)\n",
    "        t.forward(self.b)\n",
    "        t.right(90)\n",
    "        t.left(30)\n",
    "        t.forward(self.h)\n",
    "        t.left(150)\n",
    "        t.forward(self.l)\n",
    "        t.left(30)\n",
    "        t.forward(self.h)\n",
    "        t.done()\n",
    "        try:\n",
    "            t.exitonclick()\n",
    "        except:\n",
    "            pass\n",
    "        \n",
    "#Cube is a cuboid with length breadth and height all equal        \n",
    "class cube(cuboid):\n",
    "    def __init__(self,l):\n",
    "        self.l = l\n",
    "        self.b = l\n",
    "        self.h = l\n",
    "    def set_params(self,l):\n",
    "        self.l = l\n",
    "        self.b = l\n",
    "        self.h = l\n",
    "    def get_2d_proj(self):\n",
    "        print('Cube is a 3D extension of square')\n",
    "    def draw(self):\n",
    "        t = turtle\n",
    "        for i in range(4):\n",
    "            t.forward(self.l)\n",
    "            t.left(90)\n",
    "        t.left(30)\n",
    "        t.forward(self.l)\n",
    "        t.right(30)\n",
    "        for i in range(4):\n",
    "            t.forward(self.l)\n",
    "            t.left(90)\n",
    "        \n",
    "        t.forward(self.l)\n",
    "        t.right(150)\n",
    "        t.forward(self.l)\n",
    "        t.left(240)\n",
    "        t.forward(self.l)\n",
    "        t.right(90)\n",
    "        t.left(30)\n",
    "        t.forward(self.l)\n",
    "        t.left(150)\n",
    "        t.forward(self.l)\n",
    "        t.left(30)\n",
    "        t.forward(self.l)\n",
    "        t.done()\n",
    "        try:\n",
    "            t.exitonclick()\n",
    "        except:\n",
    "            pass\n",
    "\n",
    "class sphere(three_d):\n",
    "    def __init__(self,r):\n",
    "        self.r = r \n",
    "    def set_params(self,r):\n",
    "        self.r = r\n",
    "    def get_volume(self):\n",
    "        print(4/3 * self.r**3)\n",
    "    def get_equation(self):\n",
    "        print('x^2 + y^2 + z^2 = {}'.format(self.r**2))\n",
    "    def get_2d_proj(self):\n",
    "        print('Sphere is a 3D extension of circle')\n"
   ]
  },
  {
   "cell_type": "code",
   "execution_count": 118,
   "metadata": {},
   "outputs": [
    {
     "name": "stdout",
     "output_type": "stream",
     "text": [
      "375000\n"
     ]
    }
   ],
   "source": [
    "c = cuboid(50,50,150)\n",
    "c.get_volume()\n",
    "c.draw()"
   ]
  },
  {
   "cell_type": "code",
   "execution_count": 126,
   "metadata": {},
   "outputs": [],
   "source": [
    "s = sphere(30)"
   ]
  },
  {
   "cell_type": "code",
   "execution_count": 127,
   "metadata": {},
   "outputs": [
    {
     "name": "stdout",
     "output_type": "stream",
     "text": [
      "Sphere is a 3D extension of circle\n"
     ]
    }
   ],
   "source": [
    "s.get_2d_proj()"
   ]
  }
 ],
 "metadata": {
  "kernelspec": {
   "display_name": "Python 3",
   "language": "python",
   "name": "python3"
  },
  "language_info": {
   "codemirror_mode": {
    "name": "ipython",
    "version": 3
   },
   "file_extension": ".py",
   "mimetype": "text/x-python",
   "name": "python",
   "nbconvert_exporter": "python",
   "pygments_lexer": "ipython3",
   "version": "3.7.6"
  }
 },
 "nbformat": 4,
 "nbformat_minor": 4
}
