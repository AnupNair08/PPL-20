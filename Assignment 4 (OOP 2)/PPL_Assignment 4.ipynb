{
 "cells": [
  {
   "cell_type": "markdown",
   "metadata": {},
   "source": [
    "# Base and Derived Classes\n",
    "A class is called as a base class when it is inherited by other classes whereas a derived class is a class that inherits from a base class.\n",
    "Eg: There can be multiple animals. Here Animal is the base class and all the other class of various animals are derived class as they inherit all the common properties of the animal class with their individual properties/\n",
    "Similarly there can be multiple shapes and here Shape is the base class and the other shapes such as rectangle, square are the derived class and they retain the common properties of the shape class along with their individual properties."
   ]
  },
  {
   "cell_type": "markdown",
   "metadata": {},
   "source": [
    "# Inheritance\n",
    "It is the property by which the derived classes get the same properties as the base class. Inheritance accounts for reusability of code as all the public/portected methods(except constructors and destructors) and attributes can be accessed or are passed down to the derived class. It forms a heirarchy of classes.\n",
    "\n",
    "Types of inheritance : \n",
    "                 1. Single : One base and one derived class\n",
    "                 2. Multiple : More than one base class and one derived class\n",
    "                 3. Multilevel : One base class has one derived class which in turn is a base class of another derived class\n",
    "                 4. Hybrid : Combination of all the above types"
   ]
  },
  {
   "cell_type": "markdown",
   "metadata": {},
   "source": [
    "# Virtual Functions : \n",
    "Member functions of the base class that are overridden by the derived class are called as virtual functions. It is an example of Run-Time polymorphism or late-binding.\n",
    "Eg: For an Animal class if we define a virtual function speak, we can make derived classes that change or override the speak method according to a particular animal.\n",
    "Eg: Cat meows and Dog barks.\n",
    "Here the method is called according to the derived class at runtime and this is an example of a virtual function."
   ]
  },
  {
   "cell_type": "markdown",
   "metadata": {},
   "source": [
    "# Pure Virtual Functions and abstract classes :\n",
    "When a method in a base class is declared but does not contain any implementation then it is called as an abstract method or a pure virtual function. Here the abstract method is abstract and has been only declared in the base class but there is no implementation of the method. The base class thus becomes an abstract class.\n",
    "\n"
   ]
  },
  {
   "cell_type": "markdown",
   "metadata": {},
   "source": [
    "# Polymorphism\n",
    "Polymorphism means to exist in multiple forms. It means having functions with the same name that perform different opertions according to their signature. There are two types of polymorphism in language like C++ => Compile time and Run time. Python supports only runtime polymorphism.\n",
    "\n",
    "Polymorphism may exist for operators as well as functions."
   ]
  },
  {
   "cell_type": "code",
   "execution_count": 30,
   "metadata": {},
   "outputs": [],
   "source": [
    "import abc\n",
    "#Base class\n",
    "class Animal(metaclass=abc.ABCMeta):\n",
    "    def __init__(self):\n",
    "        self.kingdom = 'Animalia'\n",
    "    def speak(self):\n",
    "        print('Animals can speak')\n",
    "    @abc.abstractmethod\n",
    "    def abstract(self):\n",
    "        pass"
   ]
  },
  {
   "cell_type": "code",
   "execution_count": 44,
   "metadata": {},
   "outputs": [],
   "source": [
    "#Derived Classes\n",
    "class Dog(Animal):\n",
    "    def speak(self):\n",
    "        print(\"Bark\")\n",
    "    def abstract(self):\n",
    "        print('Pure Virtual Function implemented in Dog')\n",
    "\n",
    "class Cat(Animal):\n",
    "    def speak(self):\n",
    "        print(\"Meow\")\n",
    "    def abstract(self):\n",
    "        print('Pure Virtual Function implemented in Dog')\n"
   ]
  },
  {
   "cell_type": "code",
   "execution_count": 41,
   "metadata": {},
   "outputs": [],
   "source": [
    "d = Dog()\n",
    "c = Cat()"
   ]
  },
  {
   "cell_type": "code",
   "execution_count": 43,
   "metadata": {},
   "outputs": [
    {
     "ename": "TypeError",
     "evalue": "Can't instantiate abstract class Lion with abstract methods abstract",
     "output_type": "error",
     "traceback": [
      "\u001b[1;31m---------------------------------------------------------------------------\u001b[0m",
      "\u001b[1;31mTypeError\u001b[0m                                 Traceback (most recent call last)",
      "\u001b[1;32m<ipython-input-43-695696e05a68>\u001b[0m in \u001b[0;36m<module>\u001b[1;34m\u001b[0m\n\u001b[1;32m----> 1\u001b[1;33m \u001b[0ml\u001b[0m \u001b[1;33m=\u001b[0m \u001b[0mLion\u001b[0m\u001b[1;33m(\u001b[0m\u001b[1;33m)\u001b[0m\u001b[1;33m\u001b[0m\u001b[1;33m\u001b[0m\u001b[0m\n\u001b[0m",
      "\u001b[1;31mTypeError\u001b[0m: Can't instantiate abstract class Lion with abstract methods abstract"
     ]
    }
   ],
   "source": []
  },
  {
   "cell_type": "code",
   "execution_count": null,
   "metadata": {},
   "outputs": [],
   "source": []
  },
  {
   "cell_type": "code",
   "execution_count": null,
   "metadata": {},
   "outputs": [],
   "source": []
  },
  {
   "cell_type": "code",
   "execution_count": null,
   "metadata": {},
   "outputs": [],
   "source": []
  },
  {
   "cell_type": "code",
   "execution_count": null,
   "metadata": {},
   "outputs": [],
   "source": []
  },
  {
   "cell_type": "code",
   "execution_count": null,
   "metadata": {},
   "outputs": [],
   "source": []
  }
 ],
 "metadata": {
  "kernelspec": {
   "display_name": "Python 3",
   "language": "python",
   "name": "python3"
  },
  "language_info": {
   "codemirror_mode": {
    "name": "ipython",
    "version": 3
   },
   "file_extension": ".py",
   "mimetype": "text/x-python",
   "name": "python",
   "nbconvert_exporter": "python",
   "pygments_lexer": "ipython3",
   "version": "3.7.6"
  }
 },
 "nbformat": 4,
 "nbformat_minor": 4
}
