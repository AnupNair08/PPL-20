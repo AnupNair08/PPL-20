{
 "cells": [
  {
   "cell_type": "markdown",
   "metadata": {},
   "source": [
    "# Base and Derived Classes\n",
    "A class is called as a base class when it is inherited by other classes whereas a derived class is a class that inherits from a base class.\n",
    "Eg: There can be multiple animals. Here Animal is the base class and all the other class of various animals are derived class as they inherit all the common properties of the animal class with their individual properties/\n",
    "Similarly there can be multiple shapes and here Shape is the base class and the other shapes such as rectangle, square are the derived class and they retain the common properties of the shape class along with their individual properties."
   ]
  },
  {
   "cell_type": "markdown",
   "metadata": {},
   "source": [
    "# Inheritance\n",
    "It is the property by which the derived classes get the same properties as the base class. Inheritance accounts for reusability of code as all the public/portected methods(except constructors and destructors) and attributes can be accessed or are passed down to the derived class. It forms a heirarchy of classes.\n",
    "\n",
    "Types of inheritance : \n",
    "                 1. Single : One base and one derived class\n",
    "                 2. Multiple : More than one base class and one derived class\n",
    "                 3. Multilevel : One base class has one derived class which in turn is a base class of another derived class\n",
    "                 4. Hybrid : Combination of all the above types"
   ]
  },
  {
   "cell_type": "markdown",
   "metadata": {},
   "source": [
    "# Virtual Functions : \n",
    "Member functions of the base class that are overridden by the derived class are called as virtual functions. It is an example of Run-Time polymorphism or late-binding.\n",
    "Eg: For an Animal class if we define a virtual function speak, we can make derived classes that change or override the speak method according to a particular animal.\n",
    "Eg: Cat meows and Dog barks.\n",
    "Here the method is called according to the derived class at runtime and this is an example of a virtual function."
   ]
  },
  {
   "cell_type": "markdown",
   "metadata": {},
   "source": [
    "# Pure Virtual Functions and abstract classes :\n",
    "When a method in a base class is declared but does not contain any implementation then it is called as an abstract method or a pure virtual function. Here the abstract method is abstract and has been only declared in the base class but there is no implementation of the method. The base class thus becomes an abstract class.\n",
    "\n"
   ]
  },
  {
   "cell_type": "markdown",
   "metadata": {},
   "source": [
    "# Polymorphism\n",
    "Polymorphism means to exist in multiple forms. It means having functions with the same name that perform different opertions according to their signature. There are two types of polymorphism in language like C++ => Compile time and Run time. Python supports only runtime polymorphism.\n",
    "\n",
    "Polymorphism may exist for operators as well as functions."
   ]
  },
  {
   "cell_type": "markdown",
   "metadata": {},
   "source": [
    "# Modularity\n",
    "The ability to import codes from various modules resulting in ability to form structured and modularised code is called as modularity"
   ]
  },
  {
   "cell_type": "markdown",
   "metadata": {},
   "source": [
    "# Animals"
   ]
  },
  {
   "cell_type": "code",
   "execution_count": 161,
   "metadata": {},
   "outputs": [],
   "source": [
    "#Base class\n",
    "class Animal(metaclass=abc.ABCMeta):\n",
    "    def __init__(self):\n",
    "        self.kingdom = 'Animalia'\n",
    "    \n",
    "    #Virtual method\n",
    "    def speak(self):\n",
    "        print('Animals can speak')\n",
    "    def a_type(self):\n",
    "        print('Animals can be wild or domestic')\n",
    "    \n",
    "    #Abstract method or pure virtual function\n",
    "    def set_name(self,name):\n",
    "        pass\n",
    "    def get_shelter(self):\n",
    "        pass"
   ]
  },
  {
   "cell_type": "code",
   "execution_count": 162,
   "metadata": {},
   "outputs": [],
   "source": [
    "#Classes deriving from Animal\n",
    "class terrestrial(Animal):\n",
    "    t = 'land'\n",
    "    def territory(self):\n",
    "        print('These animals live on the land and can be found in caves, forests and streets')\n",
    "    def get_territory(self):\n",
    "        pass\n",
    "    \n",
    "class aquatic(Animal):\n",
    "    t = 'water'\n",
    "    def territory(self):\n",
    "        print('These animals live in water and can be lakes, oceans and seas')\n",
    "    def get_territory(self):\n",
    "        pass\n",
    "    \n",
    "class aerial(Animal):\n",
    "    t = 'air'\n",
    "    def territory(self):\n",
    "        print('These animals can fly and are found in the skies')\n",
    "    def get_territory(self):\n",
    "        pass"
   ]
  },
  {
   "cell_type": "code",
   "execution_count": 197,
   "metadata": {},
   "outputs": [],
   "source": [
    "class Mammals(Animal):\n",
    "    def __init__(self):\n",
    "        self.Type = 'Mammal'\n",
    "    def feature(self):\n",
    "        print('Vertebrate animals belonging to the class Mammalia')\n",
    "\n",
    "class Birds(Animal):\n",
    "    def __init__(self):\n",
    "        self.Type = 'Birds'\n",
    "    def feature(self):\n",
    "        print('Flying creatures with wide exoskeleton and feathers')\n",
    "        \n",
    "class Reptile(Animal):\n",
    "    def __init__(self):\n",
    "        self.Type = 'Reptile'\n",
    "    def feature(self):\n",
    "        print('Cold blooded crawling animals')\n",
    "    \n",
    "class Fish(Animal):\n",
    "    def __init__(self):\n",
    "        self.Type = 'Fish'\n",
    "    def feature(self):\n",
    "        print('Aquatic animals living in oceans')\n",
    "    "
   ]
  },
  {
   "cell_type": "code",
   "execution_count": 198,
   "metadata": {},
   "outputs": [],
   "source": [
    "#Derived Classes\n",
    "class Dog(Mammals,terrestrial):\n",
    "    name = ''\n",
    "    shelter = 'Streets / Home'\n",
    "    def speak(self):\n",
    "        print(\"Bark\")\n",
    "    def set_name(self,name):\n",
    "        self.name = name\n",
    "    def get_shelter(self):\n",
    "        print(self.shelter)\n",
    "    def get_territory(self):\n",
    "        print(self.t)\n",
    "\n",
    "class Cat(Mammals,terrestrial):\n",
    "    name = ''\n",
    "    shelter = 'Streets / Homes'\n",
    "    def speak(self):\n",
    "        print(\"Meow\")\n",
    "    def set_name(self,name):\n",
    "        self.name = name\n",
    "    def a_type(self):\n",
    "        print('{} is a cat and {} is domestic'.format(self.name,self.name))\n",
    "    def get_shelter(self):\n",
    "        print(self.shelter)\n",
    "    def get_territory(self):\n",
    "        print(self.t)"
   ]
  },
  {
   "cell_type": "code",
   "execution_count": 199,
   "metadata": {},
   "outputs": [],
   "source": [
    "class Bat(Mammals,Birds,aerial):\n",
    "    name = ''\n",
    "    shelter = 'Trees / Forests'\n",
    "    def speak(self):\n",
    "        print('Kreek')\n",
    "    def set_name(self,name):\n",
    "        self.name = name\n",
    "    def a_type(self):\n",
    "        print('Bat is a wild mammal and a bird')\n",
    "    def get_shelter(self):\n",
    "        print(self.shelter)\n",
    "    def get_territory(self):\n",
    "        print(self.t)\n",
    "\n",
    "class Lizard(Reptile,terrestrial):\n",
    "    name = ''\n",
    "    shelter = 'All corners of the house'\n",
    "    def speak(self):\n",
    "        print('sound')\n",
    "    def set_name(self,name):\n",
    "        self.name = name\n",
    "    def a_type(self):\n",
    "        print('Lizard is a domestic(?) reptile')\n",
    "    def get_shelter(self):\n",
    "        print(self.shelter)\n",
    "    def get_territory(self):\n",
    "        print(self.t)\n",
    "        \n",
    "class whale(Reptile,aquatic):\n",
    "    name = ''\n",
    "    shelter = 'Ocean depths'\n",
    "    def speak(self):\n",
    "        print('sound')\n",
    "    def set_name(self,name):\n",
    "        self.name = name\n",
    "    def a_type(self):\n",
    "        print('Whale is a wild animal')\n",
    "    def get_shelter(self):\n",
    "        print(self.shelter)\n",
    "    def get_territory(self):\n",
    "        print(self.t)\n",
    "        \n",
    "\n",
    "class snake(Reptile,terrestrial,aquatic):\n",
    "    name = ''\n",
    "    shelter = 'Ocean depths , trees , caves'\n",
    "    def speak(self):\n",
    "        print('hiss')\n",
    "    def set_name(self,name):\n",
    "        self.name = name\n",
    "    def a_type(self):\n",
    "        print('Snake is a wild animal and an exotic pet!')\n",
    "    def get_shelter(self):\n",
    "        print(self.shelter)\n",
    "    def get_territory(self):\n",
    "        print('Aquatic , Terrestrial')\n"
   ]
  },
  {
   "cell_type": "markdown",
   "metadata": {},
   "source": [
    "Inheritance"
   ]
  },
  {
   "cell_type": "code",
   "execution_count": 209,
   "metadata": {},
   "outputs": [],
   "source": [
    "#Animal => Terrestrial, Aquatic , Aerial , Mammals, Reptiles, Birds, Fishes => Individual animals"
   ]
  },
  {
   "cell_type": "markdown",
   "metadata": {},
   "source": [
    "Example of virtual function"
   ]
  },
  {
   "cell_type": "code",
   "execution_count": 203,
   "metadata": {},
   "outputs": [
    {
     "name": "stdout",
     "output_type": "stream",
     "text": [
      "Animals can speak\n"
     ]
    }
   ],
   "source": [
    "Animal.speak('hello')"
   ]
  },
  {
   "cell_type": "code",
   "execution_count": 205,
   "metadata": {},
   "outputs": [
    {
     "name": "stdout",
     "output_type": "stream",
     "text": [
      "Bark\n"
     ]
    }
   ],
   "source": [
    "d = Dog()\n",
    "d.speak()"
   ]
  },
  {
   "cell_type": "markdown",
   "metadata": {},
   "source": [
    "Example of abstract method"
   ]
  },
  {
   "cell_type": "code",
   "execution_count": 206,
   "metadata": {},
   "outputs": [],
   "source": [
    "d.set_name('Butch')"
   ]
  },
  {
   "cell_type": "code",
   "execution_count": 207,
   "metadata": {},
   "outputs": [
    {
     "data": {
      "text/plain": [
       "'Butch'"
      ]
     },
     "execution_count": 207,
     "metadata": {},
     "output_type": "execute_result"
    }
   ],
   "source": [
    "d.name"
   ]
  },
  {
   "cell_type": "markdown",
   "metadata": {},
   "source": [
    "# Shapes "
   ]
  },
  {
   "cell_type": "code",
   "execution_count": 2,
   "metadata": {},
   "outputs": [],
   "source": [
    "import turtle\n"
   ]
  },
  {
   "cell_type": "code",
   "execution_count": 3,
   "metadata": {},
   "outputs": [],
   "source": [
    "class shape:\n",
    "    def __init__(self):\n",
    "        self.name = 'shape'\n",
    "    \n",
    "    def get_name(self):\n",
    "        pass\n",
    "\n",
    "    def get_area(self):\n",
    "        pass\n",
    "    \n",
    "    def get_perimeter(self):\n",
    "        pass\n",
    "\n",
    "    def draw(self):\n",
    "        pass\n",
    "        \n",
    "    "
   ]
  },
  {
   "cell_type": "code",
   "execution_count": 11,
   "metadata": {},
   "outputs": [],
   "source": [
    "class polygon(shape):\n",
    "    side = 0\n",
    "    def __int__(self):\n",
    "        self._name = 'polygon'\n",
    "\n",
    "class conics(shape):\n",
    "    equation = ''\n",
    "    def __init__(self):\n",
    "        self._name = 'conic'"
   ]
  },
  {
   "cell_type": "code",
   "execution_count": 15,
   "metadata": {},
   "outputs": [],
   "source": [
    "class rectangle(shape):\n",
    "    name = 'rectangle'\n",
    "    side = 4\n",
    "    l = 0\n",
    "    b = 0\n",
    "    def __init__(self,l,b):\n",
    "        self.l = l\n",
    "        self.b = b\n",
    "    def set_sides(self,l,b):\n",
    "        self.l = l\n",
    "        self.b = b\n",
    "    def get_area(self):\n",
    "        print(self.l * self.b)\n",
    "    def get_side(self):\n",
    "        print(self.l)\n",
    "        print(self.b)\n",
    "    def draw(self):\n",
    "        t = turtle.Turtle()\n",
    "        t.forward(self.l)\n",
    "        t.left(90)\n",
    "        t.forward(self.b)\n",
    "        t.left(90)\n",
    "        t.forward(self.l)\n",
    "        t.left(90)\n",
    "        t.forward(self.b)\n",
    "        t.left(90)\n",
    "        t.done()\n",
    "        \n",
    "class square(rectangle):\n",
    "    name = 'square'\n",
    "    l = 0\n",
    "    def __init__(self,l):\n",
    "        self.l = l\n",
    "    def set_sides(self,l):\n",
    "        self.l = l\n",
    "    def get_area(self):\n",
    "        print(self.l * self.l)\n",
    "    def get_side(self):\n",
    "        print(self.l)"
   ]
  },
  {
   "cell_type": "code",
   "execution_count": 16,
   "metadata": {},
   "outputs": [],
   "source": [
    "r = rectangle(4,5)\n",
    "s = square(4)"
   ]
  },
  {
   "cell_type": "code",
   "execution_count": 17,
   "metadata": {},
   "outputs": [
    {
     "name": "stdout",
     "output_type": "stream",
     "text": [
      "16\n"
     ]
    }
   ],
   "source": [
    "s.get_area()"
   ]
  },
  {
   "cell_type": "code",
   "execution_count": 18,
   "metadata": {},
   "outputs": [
    {
     "ename": "AttributeError",
     "evalue": "'Turtle' object has no attribute 'done'",
     "output_type": "error",
     "traceback": [
      "\u001b[1;31m---------------------------------------------------------------------------\u001b[0m",
      "\u001b[1;31mAttributeError\u001b[0m                            Traceback (most recent call last)",
      "\u001b[1;32m<ipython-input-18-42a7af8912ab>\u001b[0m in \u001b[0;36m<module>\u001b[1;34m\u001b[0m\n\u001b[1;32m----> 1\u001b[1;33m \u001b[0mr\u001b[0m\u001b[1;33m.\u001b[0m\u001b[0mdraw\u001b[0m\u001b[1;33m(\u001b[0m\u001b[1;33m)\u001b[0m\u001b[1;33m\u001b[0m\u001b[1;33m\u001b[0m\u001b[0m\n\u001b[0m",
      "\u001b[1;32m<ipython-input-15-206da3dab37c>\u001b[0m in \u001b[0;36mdraw\u001b[1;34m(self)\u001b[0m\n\u001b[0;32m     25\u001b[0m         \u001b[0mt\u001b[0m\u001b[1;33m.\u001b[0m\u001b[0mforward\u001b[0m\u001b[1;33m(\u001b[0m\u001b[0mself\u001b[0m\u001b[1;33m.\u001b[0m\u001b[0mb\u001b[0m\u001b[1;33m)\u001b[0m\u001b[1;33m\u001b[0m\u001b[1;33m\u001b[0m\u001b[0m\n\u001b[0;32m     26\u001b[0m         \u001b[0mt\u001b[0m\u001b[1;33m.\u001b[0m\u001b[0mleft\u001b[0m\u001b[1;33m(\u001b[0m\u001b[1;36m90\u001b[0m\u001b[1;33m)\u001b[0m\u001b[1;33m\u001b[0m\u001b[1;33m\u001b[0m\u001b[0m\n\u001b[1;32m---> 27\u001b[1;33m         \u001b[0mt\u001b[0m\u001b[1;33m.\u001b[0m\u001b[0mdone\u001b[0m\u001b[1;33m(\u001b[0m\u001b[1;33m)\u001b[0m\u001b[1;33m\u001b[0m\u001b[1;33m\u001b[0m\u001b[0m\n\u001b[0m\u001b[0;32m     28\u001b[0m \u001b[1;33m\u001b[0m\u001b[0m\n\u001b[0;32m     29\u001b[0m \u001b[1;32mclass\u001b[0m \u001b[0msquare\u001b[0m\u001b[1;33m(\u001b[0m\u001b[0mrectangle\u001b[0m\u001b[1;33m)\u001b[0m\u001b[1;33m:\u001b[0m\u001b[1;33m\u001b[0m\u001b[1;33m\u001b[0m\u001b[0m\n",
      "\u001b[1;31mAttributeError\u001b[0m: 'Turtle' object has no attribute 'done'"
     ]
    }
   ],
   "source": [
    "r.draw()"
   ]
  },
  {
   "cell_type": "code",
   "execution_count": null,
   "metadata": {},
   "outputs": [],
   "source": []
  }
 ],
 "metadata": {
  "kernelspec": {
   "display_name": "Python 3",
   "language": "python",
   "name": "python3"
  },
  "language_info": {
   "codemirror_mode": {
    "name": "ipython",
    "version": 3
   },
   "file_extension": ".py",
   "mimetype": "text/x-python",
   "name": "python",
   "nbconvert_exporter": "python",
   "pygments_lexer": "ipython3",
   "version": "3.7.6"
  }
 },
 "nbformat": 4,
 "nbformat_minor": 4
}
